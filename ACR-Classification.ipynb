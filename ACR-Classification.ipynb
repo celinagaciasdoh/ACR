{
 "cells": [
  {
   "cell_type": "markdown",
   "metadata": {},
   "source": [
    "## Data Read-in\n",
    "\n",
    "Reading in the data and looking through the first few rows and ACR groups"
   ]
  },
  {
   "cell_type": "code",
   "execution_count": 1,
   "metadata": {
    "collapsed": true
   },
   "outputs": [],
   "source": [
    "#importing the needed packages\n",
    "import pandas as pd\n",
    "import numpy as np\n",
    "\n",
    "#reading in the clinical groupings library\n",
    "test = pd.read_csv('clinical grouping.csv', encoding = 'latin-1') #clinical library\n",
    "acr = pd.read_csv('acr.csv', encoding = 'latin-1') #dictionary of clinical groups"
   ]
  },
  {
   "cell_type": "code",
   "execution_count": 2,
   "metadata": {
    "scrolled": true
   },
   "outputs": [
    {
     "data": {
      "text/html": [
       "<div>\n",
       "<style>\n",
       "    .dataframe thead tr:only-child th {\n",
       "        text-align: right;\n",
       "    }\n",
       "\n",
       "    .dataframe thead th {\n",
       "        text-align: left;\n",
       "    }\n",
       "\n",
       "    .dataframe tbody tr th {\n",
       "        vertical-align: top;\n",
       "    }\n",
       "</style>\n",
       "<table border=\"1\" class=\"dataframe\">\n",
       "  <thead>\n",
       "    <tr style=\"text-align: right;\">\n",
       "      <th></th>\n",
       "      <th>CODE</th>\n",
       "      <th>DIAGNOSIS</th>\n",
       "      <th>ACR group</th>\n",
       "      <th>ICD 10 Chapter Number</th>\n",
       "      <th>ICD 10 chapter description</th>\n",
       "      <th>ICD 10 block</th>\n",
       "      <th>NOTES</th>\n",
       "    </tr>\n",
       "  </thead>\n",
       "  <tbody>\n",
       "    <tr>\n",
       "      <th>0</th>\n",
       "      <td>A00.0</td>\n",
       "      <td>CHOLERA DUE TO VIBRIO CHOLERAE 01, BIOVAR CHOL...</td>\n",
       "      <td>ACUTE GASTROENTERITIS</td>\n",
       "      <td>1</td>\n",
       "      <td>Certain infectious and parasitic diseases</td>\n",
       "      <td>Intestinal Infectious disease</td>\n",
       "      <td>1</td>\n",
       "    </tr>\n",
       "    <tr>\n",
       "      <th>1</th>\n",
       "      <td>A00.1</td>\n",
       "      <td>CHOLERA DUE TO VIBRIO CHOLERAE 01, BIOVAR ELTO...</td>\n",
       "      <td>ACUTE GASTROENTERITIS</td>\n",
       "      <td>1</td>\n",
       "      <td>Certain infectious and parasitic diseases</td>\n",
       "      <td>Intestinal Infectious disease</td>\n",
       "      <td>1</td>\n",
       "    </tr>\n",
       "    <tr>\n",
       "      <th>2</th>\n",
       "      <td>A00.9</td>\n",
       "      <td>CHOLERA, UNSPECIFIED</td>\n",
       "      <td>ACUTE GASTROENTERITIS</td>\n",
       "      <td>1</td>\n",
       "      <td>Certain infectious and parasitic diseases</td>\n",
       "      <td>Intestinal Infectious disease</td>\n",
       "      <td>1</td>\n",
       "    </tr>\n",
       "    <tr>\n",
       "      <th>3</th>\n",
       "      <td>A00+G53.1*</td>\n",
       "      <td>MULTIPLE CRANIAL NERVE PALSIES IN CHOLERA</td>\n",
       "      <td>NaN</td>\n",
       "      <td>1</td>\n",
       "      <td>Certain infectious and parasitic diseases</td>\n",
       "      <td>Intestinal Infectious disease</td>\n",
       "      <td>1</td>\n",
       "    </tr>\n",
       "    <tr>\n",
       "      <th>4</th>\n",
       "      <td>A00+G94.0*</td>\n",
       "      <td>HYDROCEPHALUS IN CHOLERA</td>\n",
       "      <td>NaN</td>\n",
       "      <td>1</td>\n",
       "      <td>Certain infectious and parasitic diseases</td>\n",
       "      <td>Intestinal Infectious disease</td>\n",
       "      <td>1</td>\n",
       "    </tr>\n",
       "  </tbody>\n",
       "</table>\n",
       "</div>"
      ],
      "text/plain": [
       "         CODE                                          DIAGNOSIS  \\\n",
       "0       A00.0  CHOLERA DUE TO VIBRIO CHOLERAE 01, BIOVAR CHOL...   \n",
       "1       A00.1  CHOLERA DUE TO VIBRIO CHOLERAE 01, BIOVAR ELTO...   \n",
       "2       A00.9                               CHOLERA, UNSPECIFIED   \n",
       "3  A00+G53.1*         MULTIPLE CRANIAL NERVE PALSIES IN CHOLERA    \n",
       "4  A00+G94.0*                          HYDROCEPHALUS IN CHOLERA    \n",
       "\n",
       "               ACR group  ICD 10 Chapter Number  \\\n",
       "0  ACUTE GASTROENTERITIS                      1   \n",
       "1  ACUTE GASTROENTERITIS                      1   \n",
       "2  ACUTE GASTROENTERITIS                      1   \n",
       "3                    NaN                      1   \n",
       "4                    NaN                      1   \n",
       "\n",
       "                  ICD 10 chapter description                   ICD 10 block  \\\n",
       "0  Certain infectious and parasitic diseases  Intestinal Infectious disease   \n",
       "1  Certain infectious and parasitic diseases  Intestinal Infectious disease   \n",
       "2  Certain infectious and parasitic diseases  Intestinal Infectious disease   \n",
       "3  Certain infectious and parasitic diseases  Intestinal Infectious disease   \n",
       "4  Certain infectious and parasitic diseases  Intestinal Infectious disease   \n",
       "\n",
       "   NOTES  \n",
       "0      1  \n",
       "1      1  \n",
       "2      1  \n",
       "3      1  \n",
       "4      1  "
      ]
     },
     "execution_count": 2,
     "metadata": {},
     "output_type": "execute_result"
    }
   ],
   "source": [
    "test.head()"
   ]
  },
  {
   "cell_type": "code",
   "execution_count": 3,
   "metadata": {},
   "outputs": [
    {
     "data": {
      "text/html": [
       "<div>\n",
       "<style>\n",
       "    .dataframe thead tr:only-child th {\n",
       "        text-align: right;\n",
       "    }\n",
       "\n",
       "    .dataframe thead th {\n",
       "        text-align: left;\n",
       "    }\n",
       "\n",
       "    .dataframe tbody tr th {\n",
       "        vertical-align: top;\n",
       "    }\n",
       "</style>\n",
       "<table border=\"1\" class=\"dataframe\">\n",
       "  <thead>\n",
       "    <tr style=\"text-align: right;\">\n",
       "      <th></th>\n",
       "      <th>ICD 10 CODE</th>\n",
       "      <th>DESCRIPTION</th>\n",
       "      <th>GROUP</th>\n",
       "      <th>Unnamed: 3</th>\n",
       "    </tr>\n",
       "  </thead>\n",
       "  <tbody>\n",
       "    <tr>\n",
       "      <th>0</th>\n",
       "      <td>P91.3</td>\n",
       "      <td>Neonatal cerebral irritability</td>\n",
       "      <td>ABNORMAL SENSORIUM IN THE NEWBORN</td>\n",
       "      <td>NaN</td>\n",
       "    </tr>\n",
       "    <tr>\n",
       "      <th>1</th>\n",
       "      <td>P91.4</td>\n",
       "      <td>Neonatal cerebral depression</td>\n",
       "      <td>ABNORMAL SENSORIUM IN THE NEWBORN</td>\n",
       "      <td>NaN</td>\n",
       "    </tr>\n",
       "    <tr>\n",
       "      <th>2</th>\n",
       "      <td>P91.6</td>\n",
       "      <td>Hypoxic ischaemic encephalopathy of newborn</td>\n",
       "      <td>ABNORMAL SENSORIUM IN THE NEWBORN</td>\n",
       "      <td>NaN</td>\n",
       "    </tr>\n",
       "    <tr>\n",
       "      <th>3</th>\n",
       "      <td>P91.8</td>\n",
       "      <td>Other specified disturbances of cerebral statu...</td>\n",
       "      <td>ABNORMAL SENSORIUM IN THE NEWBORN</td>\n",
       "      <td>NaN</td>\n",
       "    </tr>\n",
       "    <tr>\n",
       "      <th>4</th>\n",
       "      <td>P91.9</td>\n",
       "      <td>Disturbance of cerebral status of newborn, uns...</td>\n",
       "      <td>ABNORMAL SENSORIUM IN THE NEWBORN</td>\n",
       "      <td>NaN</td>\n",
       "    </tr>\n",
       "  </tbody>\n",
       "</table>\n",
       "</div>"
      ],
      "text/plain": [
       "  ICD 10 CODE                                        DESCRIPTION  \\\n",
       "0       P91.3                     Neonatal cerebral irritability   \n",
       "1       P91.4                       Neonatal cerebral depression   \n",
       "2       P91.6        Hypoxic ischaemic encephalopathy of newborn   \n",
       "3       P91.8  Other specified disturbances of cerebral statu...   \n",
       "4       P91.9  Disturbance of cerebral status of newborn, uns...   \n",
       "\n",
       "                               GROUP Unnamed: 3  \n",
       "0  ABNORMAL SENSORIUM IN THE NEWBORN        NaN  \n",
       "1  ABNORMAL SENSORIUM IN THE NEWBORN        NaN  \n",
       "2  ABNORMAL SENSORIUM IN THE NEWBORN        NaN  \n",
       "3  ABNORMAL SENSORIUM IN THE NEWBORN        NaN  \n",
       "4  ABNORMAL SENSORIUM IN THE NEWBORN        NaN  "
      ]
     },
     "execution_count": 3,
     "metadata": {},
     "output_type": "execute_result"
    }
   ],
   "source": [
    "acr.head()"
   ]
  },
  {
   "cell_type": "code",
   "execution_count": 4,
   "metadata": {},
   "outputs": [
    {
     "data": {
      "text/plain": [
       "array(['ABSCESS OF RESPIRATORY TRACT', 'ACUTE GASTROENTERITIS',\n",
       "       'ACUTE RENAL FAILURE', 'ADULT RESPIRATORY DISTRESS SYNDROME',\n",
       "       'ALLERGIC REACTIONS', 'AMOEBIASIS, HEPATIC',\n",
       "       'AMOEBIASIS, NONHEPATIC', 'AMYLOIDOSIS', 'ANAPHYLACTIC SHOCK',\n",
       "       'ANEMIA', 'ARTHRITIS INFECTIOUS', 'ARTHRITIS NONINFECTIOUS',\n",
       "       'ARTHROPOD BORNE VIRAL FEVER', 'ARTHROSIS',\n",
       "       'ASTHMA IN ACUTE EXACERBATION', 'ATELECTASIS',\n",
       "       'BACK PAIN, RADICULOPATHY, SCIATICA', 'BLADDER DYSFUNCTION',\n",
       "       'BOTULISM'], dtype=object)"
      ]
     },
     "execution_count": 4,
     "metadata": {},
     "output_type": "execute_result"
    }
   ],
   "source": [
    "#looking at the first few ACR groups\n",
    "groups = acr.GROUP.unique()\n",
    "len(groups)\n",
    "groups[1:20]"
   ]
  },
  {
   "cell_type": "code",
   "execution_count": 5,
   "metadata": {},
   "outputs": [
    {
     "name": "stdout",
     "output_type": "stream",
     "text": [
      "23027\n"
     ]
    },
    {
     "data": {
      "text/plain": [
       "(4694, 7)"
      ]
     },
     "execution_count": 5,
     "metadata": {},
     "output_type": "execute_result"
    }
   ],
   "source": [
    "#how many diagnoses are in the testing set?\n",
    "print(len(test.index))\n",
    "\n",
    "#how many of these already have classifications?\n",
    "test[test['ACR group'].notnull()].shape"
   ]
  },
  {
   "cell_type": "markdown",
   "metadata": {},
   "source": [
    "### Data Preparation\n",
    "\n",
    "1. Come up with a new dataframe containing all diagnoses listed per ACR group. This will be used as the dataset upon which a classification model will be trained.\n",
    "2. The testing set will be all entries in the clinical gorupings dataset that have not yet been matched to an ACR group."
   ]
  },
  {
   "cell_type": "code",
   "execution_count": 6,
   "metadata": {},
   "outputs": [
    {
     "data": {
      "text/html": [
       "<div>\n",
       "<style>\n",
       "    .dataframe thead tr:only-child th {\n",
       "        text-align: right;\n",
       "    }\n",
       "\n",
       "    .dataframe thead th {\n",
       "        text-align: left;\n",
       "    }\n",
       "\n",
       "    .dataframe tbody tr th {\n",
       "        vertical-align: top;\n",
       "    }\n",
       "</style>\n",
       "<table border=\"1\" class=\"dataframe\">\n",
       "  <thead>\n",
       "    <tr style=\"text-align: right;\">\n",
       "      <th></th>\n",
       "      <th>Diagnoses</th>\n",
       "      <th>Groups</th>\n",
       "    </tr>\n",
       "  </thead>\n",
       "  <tbody>\n",
       "    <tr>\n",
       "      <th>0</th>\n",
       "      <td>neonatal cerebral irritability</td>\n",
       "      <td>ABNORMAL SENSORIUM IN THE NEWBORN</td>\n",
       "    </tr>\n",
       "    <tr>\n",
       "      <th>1</th>\n",
       "      <td>neonatal cerebral depression</td>\n",
       "      <td>ABNORMAL SENSORIUM IN THE NEWBORN</td>\n",
       "    </tr>\n",
       "    <tr>\n",
       "      <th>2</th>\n",
       "      <td>hypoxic ischaemic encephalopathy of newborn</td>\n",
       "      <td>ABNORMAL SENSORIUM IN THE NEWBORN</td>\n",
       "    </tr>\n",
       "    <tr>\n",
       "      <th>3</th>\n",
       "      <td>other specified disturbances of cerebral statu...</td>\n",
       "      <td>ABNORMAL SENSORIUM IN THE NEWBORN</td>\n",
       "    </tr>\n",
       "    <tr>\n",
       "      <th>4</th>\n",
       "      <td>disturbance of cerebral status of newborn, uns...</td>\n",
       "      <td>ABNORMAL SENSORIUM IN THE NEWBORN</td>\n",
       "    </tr>\n",
       "  </tbody>\n",
       "</table>\n",
       "</div>"
      ],
      "text/plain": [
       "                                           Diagnoses  \\\n",
       "0                     neonatal cerebral irritability   \n",
       "1                       neonatal cerebral depression   \n",
       "2        hypoxic ischaemic encephalopathy of newborn   \n",
       "3  other specified disturbances of cerebral statu...   \n",
       "4  disturbance of cerebral status of newborn, uns...   \n",
       "\n",
       "                              Groups  \n",
       "0  ABNORMAL SENSORIUM IN THE NEWBORN  \n",
       "1  ABNORMAL SENSORIUM IN THE NEWBORN  \n",
       "2  ABNORMAL SENSORIUM IN THE NEWBORN  \n",
       "3  ABNORMAL SENSORIUM IN THE NEWBORN  \n",
       "4  ABNORMAL SENSORIUM IN THE NEWBORN  "
      ]
     },
     "execution_count": 6,
     "metadata": {},
     "output_type": "execute_result"
    }
   ],
   "source": [
    "import re\n",
    "diagnoses = []\n",
    "classes = []\n",
    "\n",
    "#collect all diagnoses with stated ACR groups into a single dataframe\n",
    "#this dataframe will be used for training the text classification model\n",
    "for group in groups:\n",
    "    descs = acr[acr['GROUP'] == group]['DESCRIPTION']\n",
    "    \n",
    "    for desc in descs:\n",
    "        phrases = [e.lower() for e in [d.strip() for d in desc.split(';')]]\n",
    "        diagnoses.extend(phrases)\n",
    "        classes.extend([group] * len(phrases))\n",
    "        \n",
    "    descs2 = test[test['ACR group'] == group]['DIAGNOSIS']\n",
    "    \n",
    "    for desc in descs2:\n",
    "        diags = [e.lower() for e in [d.strip() for d in desc.split(';')]]\n",
    "        diagnoses.extend(diags)\n",
    "        classes.extend([group] * len(diags))\n",
    "\n",
    "train = pd.DataFrame(columns = ['Diagnoses','Groups'])\n",
    "\n",
    "diagnoses = pd.Series(diagnoses)\n",
    "train['Diagnoses'] = diagnoses.values\n",
    "\n",
    "classes = pd.Series(classes)\n",
    "train['Groups'] = classes.values\n",
    "\n",
    "train.head()"
   ]
  },
  {
   "cell_type": "code",
   "execution_count": 7,
   "metadata": {
    "collapsed": true
   },
   "outputs": [],
   "source": [
    "#stripping stopwords from train and test sets\n",
    "import nltk\n",
    "from nltk.corpus import stopwords\n",
    "stops = set(stopwords.words('english'))\n",
    "\n",
    "def clean_words(diag):\n",
    "    diag_spl = diag.split()\n",
    "    diag_new = [w for w in diag_spl if w not in stops]\n",
    "    return(\" \".join(diag_new))\n",
    "\n",
    "train['Diagnoses'] = train['Diagnoses'].apply(clean_words)\n",
    "test['DIAGNOSIS'] = test['DIAGNOSIS'].apply(clean_words)"
   ]
  },
  {
   "cell_type": "code",
   "execution_count": 8,
   "metadata": {
    "collapsed": true
   },
   "outputs": [],
   "source": [
    "#stripping classified entries from the test set\n",
    "test = test[pd.isnull(test['ACR group'])]"
   ]
  },
  {
   "cell_type": "markdown",
   "metadata": {},
   "source": [
    "### Preparing the text classification model"
   ]
  },
  {
   "cell_type": "code",
   "execution_count": null,
   "metadata": {
    "collapsed": true
   },
   "outputs": [],
   "source": [
    "#bag of words representation for the train and test sets\n",
    "from sklearn.feature_extraction.text import CountVectorizer\n",
    "\n",
    "vectorizer = CountVectorizer(analyzer = \"word\",\n",
    "                             tokenizer = None,\n",
    "                             preprocessor = None,\n",
    "                             stop_words = None)\n",
    "\n",
    "train_features = vectorizer.fit_transform(train['Diagnoses'])\n",
    "test_features = vectorizer.transform(test['DIAGNOSIS'])\n",
    "\n",
    "train_features_a = train_features.toarray()\n",
    "test_features_a = test_features.toarray()"
   ]
  },
  {
   "cell_type": "code",
   "execution_count": null,
   "metadata": {
    "collapsed": true
   },
   "outputs": [],
   "source": [
    "#preparing the random forest classifier\n",
    "from sklearn.ensemble import RandomForestClassifier\n",
    "\n",
    "forest = RandomForestClassifier(n_estimators = 500, n_jobs = 1, max_depth = 1000) \n",
    "forest = forest.fit(train_features_a, train['Groups'])"
   ]
  },
  {
   "cell_type": "markdown",
   "metadata": {},
   "source": [
    "### Identifying the five most probable ACR groups for each diagnostic category"
   ]
  },
  {
   "cell_type": "code",
   "execution_count": null,
   "metadata": {
    "collapsed": true
   },
   "outputs": [],
   "source": [
    "predictions = forest.predict_proba(test_features)"
   ]
  },
  {
   "cell_type": "code",
   "execution_count": null,
   "metadata": {
    "collapsed": true
   },
   "outputs": [],
   "source": [
    "test['preds'] = 0\n",
    "count = 0\n",
    "\n",
    "for array in predictions:\n",
    "    max_indices = array.argsort()[-5:][::-1]\n",
    "    probs = list(forest.classes_[max_indices])\n",
    "    test['preds'].iloc[count] = probs\n",
    "    count += 1"
   ]
  },
  {
   "cell_type": "code",
   "execution_count": null,
   "metadata": {
    "collapsed": true
   },
   "outputs": [],
   "source": [
    "test.to_excel('test_out.xlsx')"
   ]
  }
 ],
 "metadata": {
  "kernelspec": {
   "display_name": "Python 3",
   "language": "python",
   "name": "python3"
  },
  "language_info": {
   "codemirror_mode": {
    "name": "ipython",
    "version": 3
   },
   "file_extension": ".py",
   "mimetype": "text/x-python",
   "name": "python",
   "nbconvert_exporter": "python",
   "pygments_lexer": "ipython3",
   "version": "3.6.1"
  }
 },
 "nbformat": 4,
 "nbformat_minor": 2
}
